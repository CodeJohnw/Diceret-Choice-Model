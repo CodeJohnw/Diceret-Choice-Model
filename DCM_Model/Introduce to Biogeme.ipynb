{
 "cells": [
  {
   "cell_type": "code",
   "execution_count": 2,
   "id": "e19f2e2f",
   "metadata": {
    "ExecuteTime": {
     "end_time": "2023-11-14T12:11:10.998167Z",
     "start_time": "2023-11-14T12:11:08.519717Z"
    }
   },
   "outputs": [
    {
     "name": "stdout",
     "output_type": "stream",
     "text": [
      "Requirement already satisfied: biogeme in /Users/johnwong/opt/anaconda3/lib/python3.9/site-packages (3.2.12)\n",
      "Requirement already satisfied: tqdm>=4.64.1 in /Users/johnwong/opt/anaconda3/lib/python3.9/site-packages (from biogeme) (4.64.1)\n",
      "Requirement already satisfied: cythonbiogeme>=1.0.1 in /Users/johnwong/opt/anaconda3/lib/python3.9/site-packages (from biogeme) (1.0.1)\n",
      "Requirement already satisfied: scipy>=1.7.3 in /Users/johnwong/opt/anaconda3/lib/python3.9/site-packages (from biogeme) (1.11.4)\n",
      "Requirement already satisfied: tomlkit>=0.11.5 in /Users/johnwong/opt/anaconda3/lib/python3.9/site-packages (from biogeme) (0.12.3)\n",
      "Requirement already satisfied: pandas>=1.3.5 in /Users/johnwong/opt/anaconda3/lib/python3.9/site-packages (from biogeme) (1.4.4)\n",
      "Requirement already satisfied: biogeme-optimization>=0.0.4 in /Users/johnwong/opt/anaconda3/lib/python3.9/site-packages (from biogeme) (0.0.4)\n",
      "Requirement already satisfied: numpy>=1.24.2 in /Users/johnwong/opt/anaconda3/lib/python3.9/site-packages (from biogeme-optimization>=0.0.4->biogeme) (1.26.2)\n",
      "Requirement already satisfied: cython>=0.29.16 in /Users/johnwong/opt/anaconda3/lib/python3.9/site-packages (from cythonbiogeme>=1.0.1->biogeme) (0.29.32)\n",
      "Requirement already satisfied: python-dateutil>=2.8.1 in /Users/johnwong/opt/anaconda3/lib/python3.9/site-packages (from pandas>=1.3.5->biogeme) (2.8.2)\n",
      "Requirement already satisfied: pytz>=2020.1 in /Users/johnwong/opt/anaconda3/lib/python3.9/site-packages (from pandas>=1.3.5->biogeme) (2022.1)\n",
      "Requirement already satisfied: six>=1.5 in /Users/johnwong/opt/anaconda3/lib/python3.9/site-packages (from python-dateutil>=2.8.1->pandas>=1.3.5->biogeme) (1.16.0)\n",
      "Note: you may need to restart the kernel to use updated packages.\n"
     ]
    }
   ],
   "source": [
    "pip install biogeme"
   ]
  },
  {
   "cell_type": "code",
   "execution_count": 3,
   "id": "940aa330",
   "metadata": {
    "ExecuteTime": {
     "end_time": "2023-11-14T12:11:21.969001Z",
     "start_time": "2023-11-14T12:11:14.882511Z"
    }
   },
   "outputs": [
    {
     "name": "stdout",
     "output_type": "stream",
     "text": [
      "Requirement already satisfied: pip in /Users/yingfei_wang/opt/anaconda3/lib/python3.9/site-packages (22.3.1)\n",
      "Collecting pip\n",
      "  Downloading pip-23.3.1-py3-none-any.whl (2.1 MB)\n",
      "\u001b[2K     \u001b[90m━━━━━━━━━━━━━━━━━━━━━━━━━━━━━━━━━━━━━━━━\u001b[0m \u001b[32m2.1/2.1 MB\u001b[0m \u001b[31m2.4 MB/s\u001b[0m eta \u001b[36m0:00:00\u001b[0m00:01\u001b[0m00:01\u001b[0m\n",
      "\u001b[?25hInstalling collected packages: pip\n",
      "  Attempting uninstall: pip\n",
      "    Found existing installation: pip 22.3.1\n",
      "    Uninstalling pip-22.3.1:\n",
      "      Successfully uninstalled pip-22.3.1\n",
      "Successfully installed pip-23.3.1\n",
      "Note: you may need to restart the kernel to use updated packages.\n"
     ]
    }
   ],
   "source": [
    "pip install --upgrade pip"
   ]
  },
  {
   "cell_type": "code",
   "execution_count": 3,
   "id": "251d2da5",
   "metadata": {},
   "outputs": [],
   "source": [
    "import biogeme.version as ver"
   ]
  },
  {
   "cell_type": "code",
   "execution_count": 4,
   "id": "6fa9a004",
   "metadata": {},
   "outputs": [
    {
     "name": "stdout",
     "output_type": "stream",
     "text": [
      "biogeme 3.2.12 [2023-11-23]\n",
      "Home page: http://biogeme.epfl.ch\n",
      "Submit questions to https://groups.google.com/d/forum/biogeme\n",
      "Michel Bierlaire, Transport and Mobility Laboratory, Ecole Polytechnique Fédérale de Lausanne (EPFL)\n",
      "\n"
     ]
    }
   ],
   "source": [
    "print(ver.getText())"
   ]
  },
  {
   "cell_type": "code",
   "execution_count": 5,
   "id": "b90e6e08",
   "metadata": {},
   "outputs": [],
   "source": [
    "import pandas as pd\n",
    "import biogeme.biogeme as bio\n",
    "import biogeme.database as db\n",
    "from biogeme import models\n",
    "from biogeme.expressions import Beta\n",
    "import numpy as np"
   ]
  },
  {
   "cell_type": "code",
   "execution_count": 7,
   "id": "cfb45082",
   "metadata": {},
   "outputs": [],
   "source": [
    "# load the data\n",
    "# if loading CSV file \n",
    "# df_Car_SP_data = pd.read_csv('Car_SP_data.csv')\n",
    "\n",
    "df=pd.read_csv('data.dat',delimiter='\\t')"
   ]
  },
  {
   "cell_type": "code",
   "execution_count": 8,
   "id": "f152c077",
   "metadata": {},
   "outputs": [
    {
     "data": {
      "text/html": [
       "<div>\n",
       "<style scoped>\n",
       "    .dataframe tbody tr th:only-of-type {\n",
       "        vertical-align: middle;\n",
       "    }\n",
       "\n",
       "    .dataframe tbody tr th {\n",
       "        vertical-align: top;\n",
       "    }\n",
       "\n",
       "    .dataframe thead th {\n",
       "        text-align: right;\n",
       "    }\n",
       "</style>\n",
       "<table border=\"1\" class=\"dataframe\">\n",
       "  <thead>\n",
       "    <tr style=\"text-align: right;\">\n",
       "      <th></th>\n",
       "      <th>Individual</th>\n",
       "      <th>Children_u16</th>\n",
       "      <th>Car_travel_time</th>\n",
       "      <th>PT_travel_time</th>\n",
       "      <th>Chosen_alternative</th>\n",
       "    </tr>\n",
       "  </thead>\n",
       "  <tbody>\n",
       "    <tr>\n",
       "      <th>0</th>\n",
       "      <td>1</td>\n",
       "      <td>1</td>\n",
       "      <td>28</td>\n",
       "      <td>48</td>\n",
       "      <td>0</td>\n",
       "    </tr>\n",
       "    <tr>\n",
       "      <th>1</th>\n",
       "      <td>2</td>\n",
       "      <td>1</td>\n",
       "      <td>48</td>\n",
       "      <td>64</td>\n",
       "      <td>0</td>\n",
       "    </tr>\n",
       "    <tr>\n",
       "      <th>2</th>\n",
       "      <td>3</td>\n",
       "      <td>0</td>\n",
       "      <td>36</td>\n",
       "      <td>70</td>\n",
       "      <td>1</td>\n",
       "    </tr>\n",
       "    <tr>\n",
       "      <th>3</th>\n",
       "      <td>4</td>\n",
       "      <td>1</td>\n",
       "      <td>15</td>\n",
       "      <td>72</td>\n",
       "      <td>1</td>\n",
       "    </tr>\n",
       "    <tr>\n",
       "      <th>4</th>\n",
       "      <td>5</td>\n",
       "      <td>0</td>\n",
       "      <td>14</td>\n",
       "      <td>36</td>\n",
       "      <td>0</td>\n",
       "    </tr>\n",
       "    <tr>\n",
       "      <th>...</th>\n",
       "      <td>...</td>\n",
       "      <td>...</td>\n",
       "      <td>...</td>\n",
       "      <td>...</td>\n",
       "      <td>...</td>\n",
       "    </tr>\n",
       "    <tr>\n",
       "      <th>95</th>\n",
       "      <td>96</td>\n",
       "      <td>0</td>\n",
       "      <td>27</td>\n",
       "      <td>30</td>\n",
       "      <td>0</td>\n",
       "    </tr>\n",
       "    <tr>\n",
       "      <th>96</th>\n",
       "      <td>97</td>\n",
       "      <td>1</td>\n",
       "      <td>21</td>\n",
       "      <td>62</td>\n",
       "      <td>1</td>\n",
       "    </tr>\n",
       "    <tr>\n",
       "      <th>97</th>\n",
       "      <td>98</td>\n",
       "      <td>1</td>\n",
       "      <td>43</td>\n",
       "      <td>47</td>\n",
       "      <td>0</td>\n",
       "    </tr>\n",
       "    <tr>\n",
       "      <th>98</th>\n",
       "      <td>99</td>\n",
       "      <td>1</td>\n",
       "      <td>48</td>\n",
       "      <td>79</td>\n",
       "      <td>1</td>\n",
       "    </tr>\n",
       "    <tr>\n",
       "      <th>99</th>\n",
       "      <td>100</td>\n",
       "      <td>1</td>\n",
       "      <td>62</td>\n",
       "      <td>50</td>\n",
       "      <td>0</td>\n",
       "    </tr>\n",
       "  </tbody>\n",
       "</table>\n",
       "<p>100 rows × 5 columns</p>\n",
       "</div>"
      ],
      "text/plain": [
       "    Individual  Children_u16  Car_travel_time  PT_travel_time  \\\n",
       "0            1             1               28              48   \n",
       "1            2             1               48              64   \n",
       "2            3             0               36              70   \n",
       "3            4             1               15              72   \n",
       "4            5             0               14              36   \n",
       "..         ...           ...              ...             ...   \n",
       "95          96             0               27              30   \n",
       "96          97             1               21              62   \n",
       "97          98             1               43              47   \n",
       "98          99             1               48              79   \n",
       "99         100             1               62              50   \n",
       "\n",
       "    Chosen_alternative  \n",
       "0                    0  \n",
       "1                    0  \n",
       "2                    1  \n",
       "3                    1  \n",
       "4                    0  \n",
       "..                 ...  \n",
       "95                   0  \n",
       "96                   1  \n",
       "97                   0  \n",
       "98                   1  \n",
       "99                   0  \n",
       "\n",
       "[100 rows x 5 columns]"
      ]
     },
     "execution_count": 8,
     "metadata": {},
     "output_type": "execute_result"
    }
   ],
   "source": [
    "df  # making sure missing values can be recorded"
   ]
  },
  {
   "cell_type": "code",
   "execution_count": 9,
   "id": "625c32c8",
   "metadata": {},
   "outputs": [],
   "source": [
    "# convert pandas dataframe object to Biogeme Database\n",
    "database = db.Database('application', df)"
   ]
  },
  {
   "cell_type": "code",
   "execution_count": 10,
   "id": "03d8a124",
   "metadata": {},
   "outputs": [
    {
     "data": {
      "text/plain": [
       "100"
      ]
     },
     "metadata": {},
     "output_type": "display_data"
    },
    {
     "data": {
      "text/plain": [
       "{'Individual': Individual,\n",
       " 'Children_u16': Children_u16,\n",
       " 'Car_travel_time': Car_travel_time,\n",
       " 'PT_travel_time': PT_travel_time,\n",
       " 'Chosen_alternative': Chosen_alternative}"
      ]
     },
     "metadata": {},
     "output_type": "display_data"
    }
   ],
   "source": [
    "# display database info\n",
    "display(database.getSampleSize())\n",
    "display(database.variables)"
   ]
  },
  {
   "cell_type": "code",
   "execution_count": 11,
   "id": "e10d1273",
   "metadata": {},
   "outputs": [],
   "source": [
    "# The following statement allows you to use the names of the\n",
    "# variable as Python variable.\n",
    "# specifiying the initial values \n",
    "globals().update(database.variables)"
   ]
  },
  {
   "cell_type": "code",
   "execution_count": 12,
   "id": "46de79c4",
   "metadata": {},
   "outputs": [],
   "source": [
    "# Parameters to be estimated\n",
    "# Arguments:\n",
    "#   - 1  Name for report; Typically, the same as the variable.\n",
    "#   - 2  Starting value.\n",
    "#   - 3  Lower bound.\n",
    "#   - 4  Upper bound.\n",
    "#   - 5  0: estimate the parameter, 1: keep it fixed.\n",
    "\n",
    "ASC_CAR = Beta('ASC_CAR', 0, None, None, 1) \n",
    "# 0 is the start value, 1 indicates whrther biversion is fixed, none is upper and lower limits\n",
    "ASC_PT= Beta('ASC_PT', 0, None, None, 0)\n",
    "B_TT = Beta('B_TT', 0, None, None, 0)\n",
    "B_kids = Beta('B_kids', 0, None, None, 0)\n"
   ]
  },
  {
   "cell_type": "code",
   "execution_count": 13,
   "id": "7f8aee40",
   "metadata": {},
   "outputs": [],
   "source": [
    "# Definition of Utility functions\n",
    "V0 = ASC_PT  +  B_TT*PT_travel_time\n",
    "V1 = ASC_CAR +  B_TT*Car_travel_time + B_kids*Children_u16"
   ]
  },
  {
   "cell_type": "code",
   "execution_count": 14,
   "id": "16f65871",
   "metadata": {},
   "outputs": [],
   "source": [
    "# Associate utility functions with the numbering of alternatives\n",
    "V = {0: V0, 1: V1}\n",
    "# v1 v2 ... are the chosen traveling mode"
   ]
  },
  {
   "cell_type": "code",
   "execution_count": 15,
   "id": "d8698fce",
   "metadata": {},
   "outputs": [],
   "source": [
    "# Associate the availability conditions with the alternatives\n",
    "Av_PT=1\n",
    "Av_CAR=1\n",
    "\n",
    "av = {0:Av_PT,1:Av_CAR}"
   ]
  },
  {
   "cell_type": "code",
   "execution_count": 16,
   "id": "42f4d4e0",
   "metadata": {},
   "outputs": [],
   "source": [
    "# The choice model is a logit, with availability conditions\n",
    "logprob = models.loglogit(V, av, Chosen_alternative)"
   ]
  },
  {
   "cell_type": "code",
   "execution_count": 17,
   "id": "bf2a49f9",
   "metadata": {},
   "outputs": [
    {
     "name": "stderr",
     "output_type": "stream",
     "text": [
      "File biogeme.toml has been created\n"
     ]
    }
   ],
   "source": [
    "# Create the Biogeme object\n",
    "biogeme = bio.BIOGEME(database, logprob)\n",
    "biogeme.modelName = 'model_with_biogeme'"
   ]
  },
  {
   "cell_type": "code",
   "execution_count": 20,
   "id": "e0a34280",
   "metadata": {},
   "outputs": [
    {
     "data": {
      "text/html": [
       "<div>\n",
       "<style scoped>\n",
       "    .dataframe tbody tr th:only-of-type {\n",
       "        vertical-align: middle;\n",
       "    }\n",
       "\n",
       "    .dataframe tbody tr th {\n",
       "        vertical-align: top;\n",
       "    }\n",
       "\n",
       "    .dataframe thead th {\n",
       "        text-align: right;\n",
       "    }\n",
       "</style>\n",
       "<table border=\"1\" class=\"dataframe\">\n",
       "  <thead>\n",
       "    <tr style=\"text-align: right;\">\n",
       "      <th></th>\n",
       "      <th>Value</th>\n",
       "      <th>Rob. Std err</th>\n",
       "      <th>Rob. t-test</th>\n",
       "      <th>Rob. p-value</th>\n",
       "    </tr>\n",
       "  </thead>\n",
       "  <tbody>\n",
       "    <tr>\n",
       "      <th>ASC_PT</th>\n",
       "      <td>2.388567</td>\n",
       "      <td>0.771937</td>\n",
       "      <td>3.094252</td>\n",
       "      <td>1.973101e-03</td>\n",
       "    </tr>\n",
       "    <tr>\n",
       "      <th>B_TT</th>\n",
       "      <td>-0.120369</td>\n",
       "      <td>0.023719</td>\n",
       "      <td>-5.074728</td>\n",
       "      <td>3.880503e-07</td>\n",
       "    </tr>\n",
       "    <tr>\n",
       "      <th>B_kids</th>\n",
       "      <td>0.158518</td>\n",
       "      <td>0.671311</td>\n",
       "      <td>0.236132</td>\n",
       "      <td>8.133300e-01</td>\n",
       "    </tr>\n",
       "  </tbody>\n",
       "</table>\n",
       "</div>"
      ],
      "text/plain": [
       "           Value  Rob. Std err  Rob. t-test  Rob. p-value\n",
       "ASC_PT  2.388567      0.771937     3.094252  1.973101e-03\n",
       "B_TT   -0.120369      0.023719    -5.074728  3.880503e-07\n",
       "B_kids  0.158518      0.671311     0.236132  8.133300e-01"
      ]
     },
     "execution_count": 20,
     "metadata": {},
     "output_type": "execute_result"
    }
   ],
   "source": [
    "# Estimate the parameters\n",
    "results = biogeme.estimate()\n",
    "results.getEstimatedParameters()"
   ]
  },
  {
   "cell_type": "code",
   "execution_count": 21,
   "id": "195161ca",
   "metadata": {},
   "outputs": [],
   "source": [
    "df['Av_PT']=1\n",
    "df['Av_Car']=1\n",
    "df.to_csv('data.csv',index=False)"
   ]
  },
  {
   "cell_type": "code",
   "execution_count": null,
   "id": "b92b92d8",
   "metadata": {},
   "outputs": [],
   "source": []
  }
 ],
 "metadata": {
  "kernelspec": {
   "display_name": "Python 3 (ipykernel)",
   "language": "python",
   "name": "python3"
  },
  "language_info": {
   "codemirror_mode": {
    "name": "ipython",
    "version": 3
   },
   "file_extension": ".py",
   "mimetype": "text/x-python",
   "name": "python",
   "nbconvert_exporter": "python",
   "pygments_lexer": "ipython3",
   "version": "3.9.13"
  },
  "toc": {
   "base_numbering": 1,
   "nav_menu": {},
   "number_sections": true,
   "sideBar": true,
   "skip_h1_title": false,
   "title_cell": "Table of Contents",
   "title_sidebar": "Contents",
   "toc_cell": false,
   "toc_position": {},
   "toc_section_display": true,
   "toc_window_display": false
  },
  "varInspector": {
   "cols": {
    "lenName": 16,
    "lenType": 16,
    "lenVar": 40
   },
   "kernels_config": {
    "python": {
     "delete_cmd_postfix": "",
     "delete_cmd_prefix": "del ",
     "library": "var_list.py",
     "varRefreshCmd": "print(var_dic_list())"
    },
    "r": {
     "delete_cmd_postfix": ") ",
     "delete_cmd_prefix": "rm(",
     "library": "var_list.r",
     "varRefreshCmd": "cat(var_dic_list()) "
    }
   },
   "types_to_exclude": [
    "module",
    "function",
    "builtin_function_or_method",
    "instance",
    "_Feature"
   ],
   "window_display": false
  }
 },
 "nbformat": 4,
 "nbformat_minor": 5
}
